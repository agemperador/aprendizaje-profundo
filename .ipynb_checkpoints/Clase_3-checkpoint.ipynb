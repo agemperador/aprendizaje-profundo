{
 "cells": [
  {
   "cell_type": "markdown",
   "metadata": {},
   "source": [
    "## Clase de Pytorch"
   ]
  },
  {
   "cell_type": "markdown",
   "metadata": {},
   "source": [
    "#### Cuda = GPU\n",
    "\n",
    "## Pytorch\n",
    "\n",
    "Libreria similar a numpy.\n",
    "\n",
    "En vez de array, hay tensores\n",
    "\n",
    "Pytorch permite diferenciación automática para el percetrón multicapa.\n",
    "\n",
    "Genera un grafo interno de manera dinámica para tener en todo momento los gradientes de la función de activación."
   ]
  },
  {
   "cell_type": "markdown",
   "metadata": {},
   "source": [
    "## Numpy vs Pytorch\n",
    "\n",
    " array  vs tensor\n",
    " \n",
    " shape  vs size()\n",
    " \n",
    " size   vs nelement()\n",
    " \n",
    " dim()\n",
    "          \n",
    " tensor.numpy() lo convierte a array de numpy\n",
    " \n",
    " from_numpy() para agarrar un array de numpy y usarlo de tensor\n",
    " "
   ]
  },
  {
   "cell_type": "code",
   "execution_count": 4,
   "metadata": {},
   "outputs": [],
   "source": [
    "import torch"
   ]
  },
  {
   "cell_type": "code",
   "execution_count": 18,
   "metadata": {
    "scrolled": true
   },
   "outputs": [
    {
     "name": "stdout",
     "output_type": "stream",
     "text": [
      "100 0.20726690673828124\n",
      "200 0.03491853332519531\n",
      "300 0.012932048797607423\n",
      "400 0.006151976585388183\n",
      "500 0.003569514989852905\n",
      "600 0.002558670520782471\n",
      "700 0.0021617019176483152\n",
      "800 0.0020057454109191895\n",
      "900 0.0019444724321365356\n",
      "1.3669255167769734e-05\n"
     ]
    }
   ],
   "source": [
    "p = 1000 # Instancias del dataset\n",
    "N = 9 # Variables de entrada\n",
    "M = 3 # Variables de salida\n",
    "\n",
    "s = 0.01\n",
    "m = torch.randn (N + 1,M) # Genera números con distribución normal de dimensión N+1 x M\n",
    "x = torch.rand (p, N + 1) # Números con distr. uniforme\n",
    "\n",
    "x[:,-1] = 1\n",
    "z = torch.mm (x,m) # Matrix multiply\n",
    "w = torch.randn (N+1, M, requires_grad = True)\n",
    "\n",
    "xn = x + s* torch.randn(p,N+1) #Genero un dataset con ruido\n",
    "\n",
    "lr = 1e-4 #Learning rate\n",
    "e,t = 1., 0\n",
    "\n",
    "while e > 1e-3 and t<999:\n",
    "    \n",
    "    y = torch.mm(xn,w)\n",
    "    \n",
    "    error = (y-z).pow(2).sum()\n",
    "    error.backward() # Revisa todo el error de los cálculos previos\n",
    "    # dW = lr*np.dot(x.T,d) hace esto\n",
    "    \n",
    "    # with Especifica cosas en un bloque de código\n",
    "    with torch.no_grad(): # no_grad no toma en cuenta los gradientes, no incorpora mas operaciones\n",
    "    \n",
    "        w -= lr * w.grad #actualiza los gradientes\n",
    "        w.grad.zero_() # Aplica ceros a este gradiente, no genera un nuevo vector, por eso \"_\"\n",
    "        \n",
    "    e = error.item()/p # Genera el promedio para el error\n",
    "    t+= 1\n",
    "    \n",
    "    if t%100 == 0:\n",
    "        print(t,e)\n",
    "\n",
    "print((torch.mm(x,w)-z).pow(2).mean().item())\n",
    "\n"
   ]
  },
  {
   "cell_type": "markdown",
   "metadata": {},
   "source": [
    "#### El error del aprendizaje con ruido es mayor al error de los x verdaderos"
   ]
  },
  {
   "cell_type": "markdown",
   "metadata": {},
   "source": [
    "### Problema de paridad con 8 bits\n",
    "\n",
    "### Backpropagation de libro\n",
    "\n",
    "Se puede probar con SGD (stocastic gradient descent)\n",
    "\n",
    "O Mini-batch torch.randperm(p) me genera una permutacion de largo p\n"
   ]
  },
  {
   "cell_type": "code",
   "execution_count": 46,
   "metadata": {},
   "outputs": [
    {
     "name": "stdout",
     "output_type": "stream",
     "text": [
      "100 0.15238165855407715\n",
      "200 0.12167101860046386\n",
      "300 0.0892032241821289\n",
      "400 0.08499372482299805\n",
      "500 0.08335540771484375\n",
      "600 0.08250156402587891\n",
      "700 0.08198453903198243\n",
      "800 0.08164060592651368\n",
      "900 0.08139652252197266\n"
     ]
    },
    {
     "data": {
      "image/png": "[encoded data removed]",
      "text/plain": [
       "<Figure size 432x288 with 1 Axes>"
      ]
     },
     "metadata": {
      "needs_background": "light"
     },
     "output_type": "display_data"
    }
   ],
   "source": [
    "p = 100\n",
    "N = 8\n",
    "M = 1\n",
    "H = N+1 # Capa oculta Probar cuando crece H\n",
    "lr = 1e-2\n",
    "\n",
    "\"\"\"Esto solo hace un dataset\"\"\"\n",
    "x = torch.randn(p,N).sign() #matriz de signos de 100 x 8\n",
    "z = torch.prod(x,dim=1).view(p,1) # z es el producto de todo x en la misma fila, queda un vector de largo p\n",
    "\n",
    "\"\"\"Inicializo lw1,w2, bias y error\"\"\"\n",
    "w1 = torch.randn(N+1, H, requires_grad = True) \n",
    "w2 = torch.randn(H + 1,M , requires_grad = True)\n",
    "bias = torch.ones(p,1)\n",
    "\n",
    "e,t = 1.,0\n",
    "\n",
    "E = []\n",
    "\n",
    "\"\"\"Puedo probar agregando algo de ruido\"\"\"\n",
    "\n",
    "while e>1e-3 and t<999:\n",
    "    \n",
    "    h = torch.cat((x,bias),dim=1).mm(w1).tanh() # Concatena dos tensores en tal dimensión\n",
    "    y = torch.cat((h,bias),dim=1).mm(w2).tanh() \n",
    "    error = (y-z).pow(2).sum()\n",
    "    \n",
    "    \"\"\"Genera los gradientes de w1 y w2\"\"\"\n",
    "    error.backward()\n",
    "    \n",
    "    \"\"\"No actualizo gradientes\"\"\"\n",
    "    with torch.no_grad():\n",
    "        \"\"\"Actualiza los pesos\"\"\"\n",
    "        w1 -= lr * w1.grad\n",
    "        w2 -= lr * w2.grad\n",
    "        \n",
    "        \"\"\"Resetea los gradientes\"\"\"\n",
    "        w1.grad.zero_()\n",
    "        w2.grad.zero_()\n",
    "        \n",
    "        \n",
    "    e = error.item()/p\n",
    "    t += 1\n",
    "    E.append(e)\n",
    "    if t%100 ==0: print(t,e)\n",
    "       \n",
    "    \n",
    "import matplotlib.pyplot as plt\n",
    "\n",
    "fig = plt.figure()\n",
    "plt.plot(E)\n",
    "plt.show()\n",
    "\n",
    "\n",
    "\n"
   ]
  },
  {
   "cell_type": "markdown",
   "metadata": {},
   "source": [
    "ssh usr@milagro.dc.uba.ar"
   ]
  }
 ],
 "metadata": {
  "kernelspec": {
   "display_name": "Python 3",
   "language": "python",
   "name": "python3"
  },
  "language_info": {
   "codemirror_mode": {
    "name": "ipython",
    "version": 3
   },
   "file_extension": ".py",
   "mimetype": "text/x-python",
   "name": "python",
   "nbconvert_exporter": "python",
   "pygments_lexer": "ipython3",
   "version": "3.7.3"
  }
 },
 "nbformat": 4,
 "nbformat_minor": 2
}
