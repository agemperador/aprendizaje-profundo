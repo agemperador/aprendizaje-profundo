{
 "cells": [
  {
   "cell_type": "markdown",
   "metadata": {},
   "source": [
    "## Pytorch nn\n",
    "\n",
    "torch.nn\n",
    "\n",
    "#### Perceptrón multicapa \n",
    "\n",
    "#### Capa de entrada tamaño N\n",
    "#### Capa oculta tamaño H N*N+1\n",
    "#### Capa de salida tamaño M\n",
    "\n",
    "#### full connected y fit fordward\n",
    "\n",
    "Siempre la Primer letra en mayuscula .Sequential .Linear ...\n",
    "\n",
    "torch.nn.Sequential(\n",
    "                #Pesos \n",
    "                \n",
    "                torch.nn.Linear(N,H),  # Hace una matriz de N*H de pesos W entre Entrada y H\n",
    "                \n",
    "                #Funcion de activación \n",
    "                \n",
    "                torch.nn.Tanh(), #tangente hiperbolica\n",
    "                \n",
    "                #Capa M\n",
    "                \n",
    "                torch.nn.Linear(H,M), # pesos de la segunda capa entre H y M\n",
    "                \n",
    "                torch.nn.Tanh()   \n",
    "                \n",
    "                \n",
    "                )"
   ]
  },
  {
   "cell_type": "code",
   "execution_count": 80,
   "metadata": {},
   "outputs": [
    {
     "data": {
      "image/png": "[encoded data removed]",
      "text/plain": [
       "<Figure size 432x288 with 1 Axes>"
      ]
     },
     "metadata": {
      "needs_background": "light"
     },
     "output_type": "display_data"
    }
   ],
   "source": [
    "import torch.nn\n",
    "import torch\n",
    "import matplotlib.pyplot as plt\n",
    "\n",
    "p = 100\n",
    "N = 8\n",
    "M = 1\n",
    "H = N+1 # Capa oculta Probar cuando crece H\n",
    "lr = 1e-2\n",
    "bhsize = 10\n",
    "\n",
    "\"\"\"Esto solo hace un dataset\"\"\"\n",
    "x = torch.randn(p,N).sign() #matriz de signos de 100 x 8\n",
    "z = torch.prod(x,dim=1).view(p,1) # z es el producto de todo x en la misma fila, queda un vector de largo p\n",
    "\n",
    "\n",
    "model = torch.nn.Sequential(\n",
    "                #Pesos \n",
    "                torch.nn.Linear(N,H),  # Hace una matriz de N*H de pesos W entre Entrada y H\n",
    "                \n",
    "                #Funcion de activación \n",
    "                torch.nn.Tanh(), #tangente hiperbolica\n",
    "                \n",
    "                #Capa M\n",
    "                torch.nn.Linear(H,M), # pesos de la segunda capa entre H y M\n",
    "                \n",
    "                torch.nn.Tanh()   \n",
    "                )\n",
    "\n",
    "lostf = torch.nn.MSELoss(reduction='sum')\n",
    "\n",
    "# asi llamo a la función\n",
    "\n",
    "t = 0\n",
    "e = 1.\n",
    "err = []\n",
    "while e > 1e-3 and t<999:\n",
    "\n",
    "    it = torch.randperm(p)\n",
    "\n",
    "    #x_ = x\n",
    "    #z_ = z\n",
    "        \n",
    "    for mb in range( 0, p, bhsize):\n",
    "        i = it[mb:mb+bhsize]\n",
    "    \n",
    "        x_ = x[it]\n",
    "        z_ = z[it]\n",
    "        \n",
    "        y = model(x_)\n",
    "\n",
    "        model.zero_grad() #vuelve a 0 los gradientes\n",
    "\n",
    "\n",
    "        error = lostf(y,z_) #Calculo de lostf\n",
    "        error.backward() #Calculo de los gradientes hacia atras\n",
    "\n",
    "        with torch.no_grad():\n",
    "\n",
    "            for i,param in enumerate(model.parameters()):\n",
    "\n",
    "                param -= param.grad*lr\n",
    "\n",
    "    e = error.item()/p # Genera el promedio para el error\n",
    "    err.append(e)\n",
    "    t+=1\n",
    "\n",
    "    if t%100 == 0:\n",
    "        print(t,e)\n",
    "\n",
    "fig =plt.figure()\n",
    "\n",
    "plt.plot(err)\n",
    "\n",
    "plt.show()\n",
    "\n",
    "    \n",
    "    \n",
    "    \n"
   ]
  },
  {
   "cell_type": "markdown",
   "metadata": {},
   "source": [
    "## Para usar la GPU"
   ]
  },
  {
   "cell_type": "code",
   "execution_count": 54,
   "metadata": {},
   "outputs": [
    {
     "data": {
      "text/plain": [
       "device(type='cpu')"
      ]
     },
     "execution_count": 54,
     "metadata": {},
     "output_type": "execute_result"
    }
   ],
   "source": [
    "device = torch.device('cuda:0' if torch.cuda.is_available() else\"cpu\")\n",
    "x = x.to(device)\n",
    "z = z.to(device)\n",
    "device "
   ]
  },
  {
   "cell_type": "markdown",
   "metadata": {},
   "source": [
    "### Esto es orientada a objetos"
   ]
  },
  {
   "cell_type": "code",
   "execution_count": 195,
   "metadata": {},
   "outputs": [
    {
     "name": "stdout",
     "output_type": "stream",
     "text": [
      "Media:  tensor(0.8419) \n",
      "\n"
     ]
    },
    {
     "data": {
      "image/png": "[encoded data removed]",
      "text/plain": [
       "<Figure size 432x288 with 1 Axes>"
      ]
     },
     "metadata": {
      "needs_background": "light"
     },
     "output_type": "display_data"
    }
   ],
   "source": [
    "p = 100\n",
    "N = 8\n",
    "M = 1\n",
    "H = N + 4*N//3 # Capa oculta Probar cuando crece H\n",
    "lr = 1e-2\n",
    "\n",
    "\n",
    "x = torch.randn(p,N).sign() #matriz de signos de 100 x 8\n",
    "z = torch.prod(x,dim=1).view(p,M) # z es el producto de todo x en la misma fila, queda un vector de largo p\n",
    "\n",
    "\n",
    "\n",
    "class mlp(torch.nn.Module): #Multi Layer perceptron\n",
    "    \n",
    "    def __init__(_,isize,hsize,osize ): #self o _ para llamarse a si mismo, unidades de entrada, unidades ocultas, unidades de salida\n",
    "        \n",
    "        #para que llame al modulo torch.nn.Module y haga las operaciones que tenga que hacer, se usa super\n",
    "        super().__init__()\n",
    "        \n",
    "        #Defino las capas\n",
    "        _.L1 = torch.nn.Linear(isize, hsize)\n",
    "        _.L2 = torch.nn.Linear(hsize, osize)\n",
    "        \n",
    "    def forward(_, x):\n",
    "    \n",
    "        h = torch.tanh(_.L1(x))\n",
    "        y = torch.tanh(_.L2(h))\n",
    "        \n",
    "        return y\n",
    "    \n",
    "\n",
    "model = mlp(N,H,M)\n",
    "\n",
    "lostf = torch.nn.MSELoss()\n",
    "\n",
    "optim = torch.optim.SGD(model.parameters(),lr = lr)\n",
    "\n",
    "err,e,t =[],1., 0\n",
    "\n",
    "model.train()\n",
    "\n",
    "while e > 1e-3 and t<2000:\n",
    "\n",
    "    y = model(x)\n",
    "\n",
    "    optim.zero_grad()\n",
    "\n",
    "    error = lostf(y,z) #Calculo de lostf\n",
    "    error.backward() #Calculo de los gradientes hacia atras\n",
    "\n",
    "    optim.step()\n",
    "    \n",
    "    e = error.item() # Genera el promedio para el error\n",
    "    err.append(e)\n",
    "    t+=1\n",
    "\n",
    "    #if t%100 == 0:\n",
    "        #print(t,e)\n",
    "errp = []\n",
    "for i in range(10):        \n",
    "    xp = torch.randn(p,N)\n",
    "    zp = torch.prod(xp,dim = 1).view(p,M)\n",
    "\n",
    "    model.eval()\n",
    "\n",
    "    with torch.no_grad():\n",
    "\n",
    "        yp = model(xp)\n",
    "        ep = lostf(yp,zp)\n",
    "        errp.append(ep)\n",
    "        #print(ep , '\\n')\n",
    "\n",
    "print(\"Media: \", torch.mean(torch.Tensor(err)) ,'\\n')\n",
    "fig = plt.figure()\n",
    "plt.plot(err)\n",
    "plt.show()\n",
    "    \n",
    "\n",
    "    \n",
    "    \n",
    "    \n"
   ]
  },
  {
   "cell_type": "code",
   "execution_count": 198,
   "metadata": {},
   "outputs": [
    {
     "data": {
      "text/plain": [
       "<module 'torch.version' from '/home/agustin/anaconda3/lib/python3.7/site-packages/torch/version.py'>"
      ]
     },
     "execution_count": 198,
     "metadata": {},
     "output_type": "execute_result"
    }
   ],
   "source": [
    "torch.version"
   ]
  },
  {
   "cell_type": "markdown",
   "metadata": {},
   "source": [
    "## SGD RProp tiene un lr independiente para cada parametro ajustado dinamicamente\n",
    "## Adam etc..."
   ]
  }
 ],
 "metadata": {
  "kernelspec": {
   "display_name": "Python 3",
   "language": "python",
   "name": "python3"
  },
  "language_info": {
   "codemirror_mode": {
    "name": "ipython",
    "version": 3
   },
   "file_extension": ".py",
   "mimetype": "text/x-python",
   "name": "python",
   "nbconvert_exporter": "python",
   "pygments_lexer": "ipython3",
   "version": "3.7.3"
  }
 },
 "nbformat": 4,
 "nbformat_minor": 2
}
