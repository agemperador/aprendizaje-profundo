{
 "cells": [
  {
   "cell_type": "code",
   "execution_count": 1,
   "metadata": {},
   "outputs": [],
   "source": [
    "import numpy as np\n"
   ]
  },
  {
   "cell_type": "code",
   "execution_count": 24,
   "metadata": {},
   "outputs": [
    {
     "name": "stdout",
     "output_type": "stream",
     "text": [
      "A =  [-1  1  2] \n",
      "M =  [[ 3 -9  0  5]\n",
      " [ 2 -5 -3  1]\n",
      " [-1  5  8  4]] \n",
      " B =  [-4  2  1 -1]\n",
      "A.M =  [-3 14 13  4]\n",
      " No funciona porque no tienen la misma diension  (\"At.B = \",np.transpose(a).dot(b) )\n",
      "M.Bt =  [-35 -22  18]\n",
      "A.At =  6\n"
     ]
    }
   ],
   "source": [
    "m = np.array([[3,-9,0,5],[2,-5,-3,1],[-1,5,8,4]])\n",
    "a = np.array([-1,1,2])\n",
    "b = np.array([-4,2,1,-1])\n",
    "print(\"A = \",a,\"\\nM = \",m,\"\\n B = \",b)\n",
    "print(\"A.M = \",a.dot(m))\n",
    "print(\"\"\" No funciona porque no tienen la misma diension  (\"At.B = \",np.transpose(a).dot(b) )\"\"\")\n",
    "print(\"M.Bt = \", m.dot(b.transpose()))\n",
    "print(\"A.At = \",a.dot(a.transpose()))\n",
    "\n"
   ]
  },
  {
   "cell_type": "code",
   "execution_count": null,
   "metadata": {},
   "outputs": [],
   "source": []
  }
 ],
 "metadata": {
  "kernelspec": {
   "display_name": "Python 3",
   "language": "python",
   "name": "python3"
  },
  "language_info": {
   "codemirror_mode": {
    "name": "ipython",
    "version": 3
   },
   "file_extension": ".py",
   "mimetype": "text/x-python",
   "name": "python",
   "nbconvert_exporter": "python",
   "pygments_lexer": "ipython3",
   "version": "3.7.3"
  }
 },
 "nbformat": 4,
 "nbformat_minor": 2
}
