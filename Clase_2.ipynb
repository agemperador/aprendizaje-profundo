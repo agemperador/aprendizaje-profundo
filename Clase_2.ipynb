{
 "cells": [
  {
   "cell_type": "markdown",
   "metadata": {},
   "source": [
    "# Regresión Lineal"
   ]
  },
  {
   "cell_type": "markdown",
   "metadata": {},
   "source": [
    "## y_1 = a_11 * x_1 + a_12 * x_2 + ... + a_1N * x_N + b_1\n",
    "## y_2 = a_21 * x_1 + ... + b_2\n",
    "## y_3 = ...\n",
    "## ...\n",
    "## y_M = ..."
   ]
  },
  {
   "cell_type": "code",
   "execution_count": 1,
   "metadata": {},
   "outputs": [],
   "source": [
    "import numpy as np\n",
    "import matplotlib.pyplot as plt\n",
    "import time\n"
   ]
  },
  {
   "cell_type": "code",
   "execution_count": 2,
   "metadata": {},
   "outputs": [
    {
     "data": {
      "text/plain": [
       "(7, 2)"
      ]
     },
     "metadata": {},
     "output_type": "display_data"
    },
    {
     "data": {
      "text/plain": [
       "(1000, 7)"
      ]
     },
     "metadata": {},
     "output_type": "display_data"
    },
    {
     "name": "stdout",
     "output_type": "stream",
     "text": [
      "(1000, 2)\n"
     ]
    }
   ],
   "source": [
    "\n",
    "N = 6\n",
    "M = 2\n",
    "p = 1000 #Cantidad de instancias del problema\n",
    "\n",
    "n = np.random.uniform(-1,1,(N+1,M)) # Estos son mis a y mis b\n",
    "\n",
    "display(n.shape)\n",
    "\n",
    "x =  np.random.uniform(-9,9,(p,N+1))\n",
    "\n",
    "display(x.shape)\n",
    "\n",
    "x[:,-1] = 1 # Defino como 1 toda la ultima columna\n",
    "\n",
    "z = np.dot(x,n)\n",
    "\n",
    "print (z.shape)\n",
    "\n"
   ]
  },
  {
   "cell_type": "markdown",
   "metadata": {},
   "source": [
    "## MODELO"
   ]
  },
  {
   "cell_type": "markdown",
   "metadata": {},
   "source": [
    "#### Hay dos maneras de frenar el modelo, puedo tomar un error mínimo que cuando lo alcanza frena,\n",
    "#### o se puede tomar una cantidad de iteraciones.\n",
    "#### Para entrenarlo vamos a usar el modo batch.\n",
    "\n",
    "\n",
    "#### lr = learning rate, es cuanto va a aprender en cada paso\n",
    "#### w es mi matriz de pesos de N+1 x M donde NxM son pesos y N x 1 son bias\n",
    "#### E es el error inicializado en 1\n",
    "#### t es el número de iteraciones"
   ]
  },
  {
   "cell_type": "markdown",
   "metadata": {},
   "source": [
    "## Modelo sin Perceptrón"
   ]
  },
  {
   "cell_type": "code",
   "execution_count": 28,
   "metadata": {},
   "outputs": [],
   "source": [
    "def reg_lin (x,z,p=10):\n",
    "    lr = 1e-5/p #Learning rate\n",
    "    w = np.random.uniform( -0.1, 0.1, (N + 1, M)) #Defino mi matriz w, esto es lo que voy a ENTRENAR\n",
    "\n",
    "    E, t, e = [1.], 0, 1.\n",
    "\n",
    "\n",
    "    fig = plt.figure(figsize=(10,10))\n",
    "    print('lr = %f'%(lr))\n",
    "    while (e>0.01) and (t<2000):\n",
    "\n",
    "        y = np.dot(x,w)\n",
    "        d = z-y \n",
    "\n",
    "        dW = lr*np.dot(x.T,d) #delta simplificada\n",
    "        w += dW\n",
    "\n",
    "        e = np.mean(np.square(d)) #MSE error cuadrático medio\n",
    "        E.append(e)\n",
    "        t +=1\n",
    "        #print(t,e,lr)\n",
    "       # if t % 20 == 0:\n",
    "       #     print(t,e)\n",
    "       #     print(n-w)\n",
    "    #plt.xkcd()\n",
    "    plt.subplot(221)\n",
    "    plt.plot(E[1:])\n",
    "    plt.title(\"Errores vs t\")\n",
    "    plt.subplot(222)\n",
    "    plt.imshow(w,cmap=plt.get_cmap('RdBu'))\n",
    "    plt.colorbar()\n",
    "    plt.title('Matriz W')\n",
    "    plt.show()\n",
    "    print('Error: %f - N° de iter: %i'%(e,t))\n",
    "    xp = np.random.uniform(-25,25,(100,N+1))\n",
    "    xp[:,-1] = 1\n",
    "    zp = np.dot(xp,n)\n",
    "    yp = np.dot(xp,w)\n",
    "    print('Error del test: %f' %(np.mean(np.square(zp-yp))))\n"
   ]
  },
  {
   "cell_type": "code",
   "execution_count": 31,
   "metadata": {},
   "outputs": [
    {
     "name": "stdout",
     "output_type": "stream",
     "text": [
      "lr = 0.000001\n"
     ]
    },
    {
     "data": {
      "image/png": "[encoded data removed]",
      "text/plain": [
       "<Figure size 720x720 with 3 Axes>"
      ]
     },
     "metadata": {
      "needs_background": "light"
     },
     "output_type": "display_data"
    },
    {
     "name": "stdout",
     "output_type": "stream",
     "text": [
      "Error: 0.009991 - N° de iter: 1573\n",
      "Error del test: 0.010333\n"
     ]
    }
   ],
   "source": [
    "reg_lin(x,z)"
   ]
  },
  {
   "cell_type": "markdown",
   "metadata": {},
   "source": [
    "## Perceptrón simple"
   ]
  },
  {
   "cell_type": "code",
   "execution_count": 43,
   "metadata": {},
   "outputs": [],
   "source": [
    "def reg_lin_perc (x,z,p=10,xkcd = False,M = 2,N=6):\n",
    "    lr = 1e-4/p #Learning rate\n",
    "    w = np.random.uniform( -0.1, 0.1, (N + 1, M)) #Defino mi matriz w, esto es lo que voy a ENTRENAR\n",
    "\n",
    "    E, t, e = [1.], 0, 1.\n",
    "\n",
    "\n",
    "    fig = plt.figure(figsize=(10,10))\n",
    "    print('lr = %f'%(lr))\n",
    "    while (e>0.01) and (t<9000):\n",
    "\n",
    "        y = np.tanh(np.dot(x,w))\n",
    "        d = z-y \n",
    "\n",
    "        dW = lr*np.dot(x.T,d) #delta simplificada\n",
    "        w += dW\n",
    "\n",
    "        e = np.mean(np.square(d)) #MSE error cuadrático medio\n",
    "        E.append(e)\n",
    "        t +=1\n",
    "        #print(t,e,lr)\n",
    "        if t % 1000 == 0:\n",
    "            print(t,e)\n",
    "       #     print(n-w)\n",
    "    if xkcd == True:\n",
    "        plt.xkcd()\n",
    "    plt.subplot(221)\n",
    "    plt.plot(E[1:])\n",
    "    plt.title(\"Errores vs t\")\n",
    "    plt.subplot(222)\n",
    "    plt.imshow(w,cmap=plt.get_cmap('RdBu'))\n",
    "    plt.colorbar()\n",
    "    plt.title('Matriz W')\n",
    "    plt.show()\n",
    "    print(e)\n",
    "    print('n-w = %f'%(np.mean(n-w)))\n",
    "    \n",
    "    c = w[0,0]/n[0,0]\n",
    "    print ('n*c - w = ',(n*c-w))\n",
    "    \n",
    "    xp = np.random.uniform(-25,25,(100,N+1))\n",
    "    xp[:,-1] = 1\n",
    "    #zp = np.sign(np.dot(xp,n))\n",
    "    zp = np.sign(np.prod(xp,axis=1)) \n",
    "    yp = np.tanh(np.dot(xp,w))\n",
    "    print (w.shape,xp.shape,zp.shape,yp.shape)\n",
    "    print('Error: %f'%(np.mean(np.square(zp-yp))))\n"
   ]
  },
  {
   "cell_type": "code",
   "execution_count": 46,
   "metadata": {},
   "outputs": [
    {
     "name": "stdout",
     "output_type": "stream",
     "text": [
      "lr = 0.000010\n",
      "1000 0.04894829477396419\n",
      "2000 0.03737985636132617\n",
      "3000 0.03201828915072884\n",
      "4000 0.02872271363483488\n",
      "5000 0.0264138011110912\n",
      "6000 0.02466985117701749\n",
      "7000 0.023286795802583443\n",
      "8000 0.02215177423246433\n",
      "9000 0.021196391160244653\n"
     ]
    },
    {
     "data": {
      "image/png": "[encoded data removed]",
      "text/plain": [
       "<Figure size 720x720 with 3 Axes>"
      ]
     },
     "metadata": {
      "needs_background": "light"
     },
     "output_type": "display_data"
    },
    {
     "name": "stdout",
     "output_type": "stream",
     "text": [
      "0.021196391160244653\n",
      "n-w = -0.097829\n",
      "n*c - w =  [[ 0.00000000e+00  2.46198533e-01]\n",
      " [-8.49351141e-02 -3.36476559e-02]\n",
      " [-6.30540869e-02 -1.79759342e-01]\n",
      " [ 3.61120923e-04 -1.98411036e-01]\n",
      " [-3.68320414e-03  5.21324264e-02]\n",
      " [ 7.24114550e-02 -3.22347187e-03]\n",
      " [ 2.44562943e-01  5.56854244e-01]]\n",
      "(7, 2) (100, 7) (100,) (100, 2)\n"
     ]
    },
    {
     "ename": "ValueError",
     "evalue": "operands could not be broadcast together with shapes (100,) (100,2) ",
     "output_type": "error",
     "traceback": [
      "\u001b[0;31m---------------------------------------------------------------------------\u001b[0m",
      "\u001b[0;31mValueError\u001b[0m                                Traceback (most recent call last)",
      "\u001b[0;32m<ipython-input-46-f8309e0677bc>\u001b[0m in \u001b[0;36m<module>\u001b[0;34m\u001b[0m\n\u001b[1;32m      1\u001b[0m \u001b[0mz_\u001b[0m \u001b[0;34m=\u001b[0m \u001b[0mnp\u001b[0m\u001b[0;34m.\u001b[0m\u001b[0msign\u001b[0m\u001b[0;34m(\u001b[0m\u001b[0mz\u001b[0m\u001b[0;34m)\u001b[0m\u001b[0;34m\u001b[0m\u001b[0;34m\u001b[0m\u001b[0m\n\u001b[0;32m----> 2\u001b[0;31m \u001b[0mreg_lin_perc\u001b[0m\u001b[0;34m(\u001b[0m\u001b[0mx\u001b[0m\u001b[0;34m,\u001b[0m\u001b[0mz_\u001b[0m\u001b[0;34m)\u001b[0m\u001b[0;34m\u001b[0m\u001b[0;34m\u001b[0m\u001b[0m\n\u001b[0m",
      "\u001b[0;32m<ipython-input-43-4e14ddc9baef>\u001b[0m in \u001b[0;36mreg_lin_perc\u001b[0;34m(x, z, p, xkcd, M, N)\u001b[0m\n\u001b[1;32m     45\u001b[0m     \u001b[0myp\u001b[0m \u001b[0;34m=\u001b[0m \u001b[0mnp\u001b[0m\u001b[0;34m.\u001b[0m\u001b[0mtanh\u001b[0m\u001b[0;34m(\u001b[0m\u001b[0mnp\u001b[0m\u001b[0;34m.\u001b[0m\u001b[0mdot\u001b[0m\u001b[0;34m(\u001b[0m\u001b[0mxp\u001b[0m\u001b[0;34m,\u001b[0m\u001b[0mw\u001b[0m\u001b[0;34m)\u001b[0m\u001b[0;34m)\u001b[0m\u001b[0;34m\u001b[0m\u001b[0;34m\u001b[0m\u001b[0m\n\u001b[1;32m     46\u001b[0m     \u001b[0mprint\u001b[0m \u001b[0;34m(\u001b[0m\u001b[0mw\u001b[0m\u001b[0;34m.\u001b[0m\u001b[0mshape\u001b[0m\u001b[0;34m,\u001b[0m\u001b[0mxp\u001b[0m\u001b[0;34m.\u001b[0m\u001b[0mshape\u001b[0m\u001b[0;34m,\u001b[0m\u001b[0mzp\u001b[0m\u001b[0;34m.\u001b[0m\u001b[0mshape\u001b[0m\u001b[0;34m,\u001b[0m\u001b[0myp\u001b[0m\u001b[0;34m.\u001b[0m\u001b[0mshape\u001b[0m\u001b[0;34m)\u001b[0m\u001b[0;34m\u001b[0m\u001b[0;34m\u001b[0m\u001b[0m\n\u001b[0;32m---> 47\u001b[0;31m     \u001b[0mprint\u001b[0m\u001b[0;34m(\u001b[0m\u001b[0;34m'Error: %f'\u001b[0m\u001b[0;34m%\u001b[0m\u001b[0;34m(\u001b[0m\u001b[0mnp\u001b[0m\u001b[0;34m.\u001b[0m\u001b[0mmean\u001b[0m\u001b[0;34m(\u001b[0m\u001b[0mnp\u001b[0m\u001b[0;34m.\u001b[0m\u001b[0msquare\u001b[0m\u001b[0;34m(\u001b[0m\u001b[0mzp\u001b[0m\u001b[0;34m-\u001b[0m\u001b[0myp\u001b[0m\u001b[0;34m)\u001b[0m\u001b[0;34m)\u001b[0m\u001b[0;34m)\u001b[0m\u001b[0;34m)\u001b[0m\u001b[0;34m\u001b[0m\u001b[0;34m\u001b[0m\u001b[0m\n\u001b[0m",
      "\u001b[0;31mValueError\u001b[0m: operands could not be broadcast together with shapes (100,) (100,2) "
     ]
    }
   ],
   "source": [
    "z_ = np.sign(z)\n",
    "reg_lin_perc(x,z_)"
   ]
  },
  {
   "cell_type": "code",
   "execution_count": 45,
   "metadata": {},
   "outputs": [
    {
     "name": "stdout",
     "output_type": "stream",
     "text": [
      "lr = 0.000010\n",
      "1000 0.9860153072033248\n",
      "2000 0.9860153066116947\n",
      "3000 0.9860153066116653\n",
      "4000 0.9860153066116653\n",
      "5000 0.9860153066116653\n",
      "6000 0.9860153066116653\n",
      "7000 0.9860153066116653\n",
      "8000 0.9860153066116653\n",
      "9000 0.9860153066116653\n"
     ]
    },
    {
     "data": {
      "image/png": "[encoded data removed]",
      "text/plain": [
       "<Figure size 720x720 with 3 Axes>"
      ]
     },
     "metadata": {
      "needs_background": "light"
     },
     "output_type": "display_data"
    },
    {
     "name": "stdout",
     "output_type": "stream",
     "text": [
      "0.9860153066116653\n",
      "n-w = 0.062698\n",
      "n*c - w =  [[ 0.         -1.02366734]\n",
      " [-0.95432354  0.15636908]\n",
      " [-0.68029935  0.70246321]\n",
      " [ 0.04753364  0.73981618]\n",
      " [ 0.27287579 -0.21088585]\n",
      " [ 0.72566555 -0.07324007]\n",
      " [-0.43698271 -1.26012164]]\n",
      "(7, 1) (100, 7) (100,) (100, 1)\n",
      "Error: 1.069064\n"
     ]
    }
   ],
   "source": [
    "z_2 = np.sign(np.prod(x,axis=1)).reshape((p,1))\n",
    "reg_lin_perc(x,z_2,M = 1)"
   ]
  },
  {
   "cell_type": "code",
   "execution_count": 50,
   "metadata": {},
   "outputs": [
    {
     "name": "stdout",
     "output_type": "stream",
     "text": [
      "(1000,)\n"
     ]
    }
   ],
   "source": [
    "z_2 = np.sign(np.prod(x,axis=1))\n",
    "print (z_2.shape)"
   ]
  },
  {
   "cell_type": "markdown",
   "metadata": {},
   "source": [
    "## Falla porque estoy analizando una categorizacion no linealmente separable"
   ]
  },
  {
   "cell_type": "code",
   "execution_count": 82,
   "metadata": {},
   "outputs": [],
   "source": [
    "import pandas as pd\n",
    "\n",
    "df = pd.read_csv('../WebScrap/T.csv',sep = ',')\n",
    "\n",
    "z= df['0'][:]\n",
    "x= [1,df['Unnamed: 0'][:]]\n",
    "\n",
    "N = len(z)\n",
    "M = len(x)"
   ]
  },
  {
   "cell_type": "code",
   "execution_count": 83,
   "metadata": {},
   "outputs": [
    {
     "name": "stdout",
     "output_type": "stream",
     "text": [
      "(699, 2)\n",
      "1e-05\n"
     ]
    },
    {
     "ename": "ValueError",
     "evalue": "setting an array element with a sequence.",
     "output_type": "error",
     "traceback": [
      "\u001b[0;31m---------------------------------------------------------------------------\u001b[0m",
      "\u001b[0;31mValueError\u001b[0m                                Traceback (most recent call last)",
      "\u001b[0;32m<ipython-input-83-6a4c2a10691b>\u001b[0m in \u001b[0;36m<module>\u001b[0;34m\u001b[0m\n\u001b[1;32m     13\u001b[0m     \u001b[0;32mwhile\u001b[0m \u001b[0;34m(\u001b[0m\u001b[0me\u001b[0m\u001b[0;34m>\u001b[0m\u001b[0;36m0.01\u001b[0m\u001b[0;34m)\u001b[0m \u001b[0;32mand\u001b[0m \u001b[0;34m(\u001b[0m\u001b[0mt\u001b[0m\u001b[0;34m<\u001b[0m\u001b[0;36m900\u001b[0m\u001b[0;34m)\u001b[0m\u001b[0;34m:\u001b[0m\u001b[0;34m\u001b[0m\u001b[0;34m\u001b[0m\u001b[0m\n\u001b[1;32m     14\u001b[0m \u001b[0;34m\u001b[0m\u001b[0m\n\u001b[0;32m---> 15\u001b[0;31m         \u001b[0my\u001b[0m \u001b[0;34m=\u001b[0m \u001b[0mnp\u001b[0m\u001b[0;34m.\u001b[0m\u001b[0mdot\u001b[0m\u001b[0;34m(\u001b[0m\u001b[0mx\u001b[0m\u001b[0;34m,\u001b[0m\u001b[0mw\u001b[0m\u001b[0;34m)\u001b[0m\u001b[0;34m\u001b[0m\u001b[0;34m\u001b[0m\u001b[0m\n\u001b[0m\u001b[1;32m     16\u001b[0m         \u001b[0md\u001b[0m \u001b[0;34m=\u001b[0m \u001b[0mz\u001b[0m\u001b[0;34m-\u001b[0m\u001b[0my\u001b[0m\u001b[0;34m\u001b[0m\u001b[0;34m\u001b[0m\u001b[0m\n\u001b[1;32m     17\u001b[0m \u001b[0;34m\u001b[0m\u001b[0m\n",
      "\u001b[0;32m<__array_function__ internals>\u001b[0m in \u001b[0;36mdot\u001b[0;34m(*args, **kwargs)\u001b[0m\n",
      "\u001b[0;31mValueError\u001b[0m: setting an array element with a sequence."
     ]
    },
    {
     "data": {
      "text/plain": [
       "<Figure size 720x288 with 0 Axes>"
      ]
     },
     "metadata": {},
     "output_type": "display_data"
    }
   ],
   "source": [
    "lr = [1e-5,] #Learning rate\n",
    "w = np.random.uniform( -0.1, 0.1, (N + 1, M)) #Defino mi matriz w, esto es lo que voy a ENTRENAR\n",
    "\n",
    "print (w.shape)\n",
    "\n",
    "E, t, e = [1.], 0, 1.\n",
    "\n",
    "    \n",
    "for lr in lr:\n",
    "    \n",
    "    fig = plt.figure(figsize=(10,4))\n",
    "    print(lr)\n",
    "    while (e>0.01) and (t<900):\n",
    "\n",
    "        y = np.dot(x,w)\n",
    "        d = z-y \n",
    "\n",
    "        dW = lr*np.dot(x.T,d) #delta simplificada\n",
    "        w += dW\n",
    "\n",
    "        e = np.mean(np.square(d)) #MSE error cuadrático medio\n",
    "        E.append(e)\n",
    "        t +=1\n",
    "        #print(t,e,lr)\n",
    "        if t % 10 == 0:\n",
    "            print(t,e)\n",
    "    plt.subplot(121)\n",
    "    plt.plot(E[1:])\n",
    "    plt.title(\"Errores vs t\")\n",
    "    plt.subplot(122)\n",
    "    plt.imshow(w,cmap=plt.get_cmap('RdBu'))\n",
    "    plt.colorbar()\n",
    "    plt.title('Matriz W')\n",
    "    plt.show()\n"
   ]
  }
 ],
 "metadata": {
  "kernelspec": {
   "display_name": "Python 3",
   "language": "python",
   "name": "python3"
  },
  "language_info": {
   "codemirror_mode": {
    "name": "ipython",
    "version": 3
   },
   "file_extension": ".py",
   "mimetype": "text/x-python",
   "name": "python",
   "nbconvert_exporter": "python",
   "pygments_lexer": "ipython3",
   "version": "3.7.3"
  }
 },
 "nbformat": 4,
 "nbformat_minor": 2
}
